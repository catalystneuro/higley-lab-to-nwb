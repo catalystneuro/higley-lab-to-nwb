{
 "cells": [
  {
   "cell_type": "markdown",
   "id": "6242b563-faf9-411b-b61e-ff6d5d802609",
   "metadata": {},
   "source": [
    "# Tutorial for one-photon imaging dataset.\n",
    "\n",
    "This tutorial shows how to access the *Two Photon dataset* using `pynwb`. \n",
    "\n",
    "This dataset contains the 2-photon calcium imaging holographic stimulation data and visual stimuli events.\n",
    "\n",
    "Contents:\n",
    "\n",
    "- [Reading an NWB file](#read-nwb)\n",
    "- [Access subject and task metadata](#access-subject)\n",
    "- [Access Imaging](#access-imaging)\n",
    "- [Access TTL Signals](#ttl-signals)\n",
    "- [Access Wheel Signal](#wheel-signal)\n",
    "- [Access Raw Behavior](#raw-behavior)\n",
    "- [Access Processed Behavior](#processed-behavior)\n",
    "- [Access Visual Stimulus](#access-visualstim)\n",
    "\n",
    "A schematic representation where the source data is saved in NWB:\n",
    "\n",
    "![Alt text](./conversion_outline_diagram.png)"
   ]
  },
  {
   "cell_type": "markdown",
   "id": "6bc8942c-2b51-4bd9-9e87-51cdd58f25ef",
   "metadata": {},
   "source": [
    "# Reading an NWB file <a name=\"read-nwb\"></a>\n",
    "\n",
    "This section demonstrates how to read an NWB file using `pynwb`.\n",
    "\n",
    "Based on the [NWB File Basics](https://pynwb.readthedocs.io/en/stable/tutorials/general/plot_file.html#sphx-glr-tutorials-general-plot-file-py) tutorial from [PyNWB](https://pynwb.readthedocs.io/en/stable/#).\n",
    "\n",
    "An [NWBFile](https://pynwb.readthedocs.io/en/stable/pynwb.file.html#pynwb.file.NWBFile) represents a single session of an experiment. Each NWBFile must have a `session description`, `identifier`, and `session start time`.\n",
    "\n",
    "Reading is carried out using the [NWBHDF5IO](https://pynwb.readthedocs.io/en/stable/pynwb.html#pynwb.NWBHDF5IO) class. To read the NWB file use the read mode (\"r\") to retrieve an NWBFile object.\n"
   ]
  },
  {
   "cell_type": "code",
   "execution_count": null,
   "id": "b2968627-3cdd-4c65-825c-4e239cf9a5ea",
   "metadata": {},
   "outputs": [],
   "source": [
    "from pynwb import NWBHDF5IO\n",
    "from pathlib import Path\n",
    "\n",
    "# Choose which epoch to explore\n",
    "session_id = '11222019_grabAM06_vis_stim'\n",
    "\n",
    "# The file path to a .nwb file\n",
    "root_path = Path(\"/media/amtra/Samsung_T5/CN_data\")\n",
    "output_dir_path = root_path / \"Higley-conversion_nwb/nwb_stub/\"\n",
    "nwbfile_path = output_dir_path / f\"{session_id}.nwb\"\n",
    "io = NWBHDF5IO(path=nwbfile_path, mode=\"r\", load_namespaces=True)\n",
    "nwbfile = io.read()\n",
    "\n",
    "nwbfile"
   ]
  },
  {
   "cell_type": "markdown",
   "id": "8b25d9c7-83c0-4992-8bb5-2548f08bb28a",
   "metadata": {},
   "source": [
    "Importantly, the `session start time` is the reference time for all timestamps in the file. For instance, an event with a timestamp of 0 in the file means the event occurred exactly at the session start time.\n",
    "\n",
    "The `session_start_time` is extracted from the ScanImage metadata (`epoch`) of the first .tiff of the epoch."
   ]
  },
  {
   "cell_type": "code",
   "execution_count": null,
   "id": "52016578-44c1-4a75-b615-ec85d8463c4a",
   "metadata": {},
   "outputs": [],
   "source": [
    "nwbfile.session_start_time"
   ]
  },
  {
   "cell_type": "markdown",
   "id": "8d247090-5cfb-47b1-a1a4-8a7c87921a38",
   "metadata": {},
   "source": [
    "# Access subject metadata <a name=\"access-subject\"></a>\n",
    "\n",
    "This section demonstrates how to access the [Subject](https://pynwb.readthedocs.io/en/stable/pynwb.file.html#pynwb.file.Subject) field in an NWB file.\n",
    "\n",
    "The [Subject](https://pynwb.readthedocs.io/en/stable/pynwb.file.html#pynwb.file.Subject) field can be accessed as `nwbfile.subject`.\n"
   ]
  },
  {
   "cell_type": "code",
   "execution_count": null,
   "id": "483b9a74-c5f0-4f59-b422-1a3a7a9c5002",
   "metadata": {},
   "outputs": [],
   "source": [
    "nwbfile.subject"
   ]
  },
  {
   "cell_type": "markdown",
   "id": "fdc72048-3dc7-4b35-a411-e5507176ef35",
   "metadata": {},
   "source": [
    "# Access OnePhoton Imaging <a name=\"access-imaging\"></a>\n",
    "\n",
    "This section demonstraces how to access the raw Two Photon imaging data.\n",
    "\n",
    "`NWB` organizes data into different groups depending on the type of data. Groups can be thought of as folders within the file. Here are some of the groups within an NWBFile and the types of data they are intended to store:\n",
    "\n",
    "- `acquisition`: raw, acquired data that should never change\n",
    "- `processing`: processed data, typically the results of preprocessing algorithms and could change\n",
    "\n",
    "## Raw OnePhoton Imaging\n",
    "\n",
    "The raw TwoPhoton imaging data is stored in `pynwb.ophys.OnePhotonSeries` objects (for each channel and excitation type separately) which is added to `nwbfile.acquisition`. The data can be accessed as `nwbfile.acquisition['OnePhotonSeries_color_Excitation_color_Channel']`.\n",
    "\n",
    "The data in [OnePhotonSeries](https://pynwb.readthedocs.io/en/stable/pynwb.ophys.html#pynwb.ophys.OnePhotonSeries) is stored as a three dimensional array: the first dimension is time (frame), the second and third dimensions represent x and y (width by height). "
   ]
  },
  {
   "cell_type": "code",
   "execution_count": null,
   "id": "7f95b465",
   "metadata": {},
   "outputs": [],
   "source": [
    "names_of_photon_series = nwbfile.acquisition.keys()\n",
    "_ = [print(name) for name in names_of_photon_series if \"OnePhotonSeries\" in name ]"
   ]
  },
  {
   "cell_type": "code",
   "execution_count": null,
   "id": "eb243ecc",
   "metadata": {},
   "outputs": [],
   "source": [
    "excitation_channel_combination = \"BlueExcitationGreenChannel\""
   ]
  },
  {
   "cell_type": "code",
   "execution_count": null,
   "id": "e9621b78-2c39-49fa-8106-d3e277252468",
   "metadata": {},
   "outputs": [],
   "source": [
    "photon_series = nwbfile.acquisition[f\"OnePhotonSeries{excitation_channel_combination}\"]"
   ]
  },
  {
   "cell_type": "code",
   "execution_count": null,
   "id": "aea45586",
   "metadata": {},
   "outputs": [],
   "source": [
    "photon_series.imaging_plane.indicator"
   ]
  },
  {
   "cell_type": "code",
   "execution_count": null,
   "id": "1ef00fe3-cb56-4efe-89bb-946bb9bc42b5",
   "metadata": {},
   "outputs": [],
   "source": [
    "# Visualize the imaging data.\n",
    "\n",
    "from matplotlib import pyplot as plt\n",
    "\n",
    "plt.imshow(photon_series.data[10], aspect=\"auto\", cmap=\"RdYlBu_r\")\n",
    "plt.title(f\"One frame from {excitation_channel_combination}\")\n",
    "plt.show()\n"
   ]
  },
  {
   "cell_type": "code",
   "execution_count": null,
   "id": "19879672-07e2-443c-ac36-3952200eb33f",
   "metadata": {},
   "outputs": [],
   "source": [
    "photon_series.rate"
   ]
  },
  {
   "cell_type": "code",
   "execution_count": null,
   "id": "0d4a7ee2-4064-4025-9bf4-03e4de6b9b28",
   "metadata": {},
   "outputs": [],
   "source": [
    "photon_series.starting_time"
   ]
  },
  {
   "cell_type": "markdown",
   "id": "ce538054-666b-4ad1-9d34-f9730973b3ff",
   "metadata": {},
   "source": [
    "# Access TTL Signals <a name=\"#ttl-signals\"></a>\n",
    "\n",
    "This section demonstrates how to access the TTL signals stored in the NWBFile.\n",
    "TTLTypesTable contains the description and the id for each TTL signal\n",
    "TTLsTable contains the respective timestamps (rising times)"
   ]
  },
  {
   "cell_type": "code",
   "execution_count": null,
   "id": "6c899439-be9f-4187-bc02-b6c9cb2491c3",
   "metadata": {},
   "outputs": [],
   "source": [
    "nwbfile.acquisition[\"TTLTypesTable\"]"
   ]
  },
  {
   "cell_type": "code",
   "execution_count": null,
   "id": "cc12d0df",
   "metadata": {},
   "outputs": [],
   "source": [
    "nwbfile.acquisition[\"TTLsTable\"]\n"
   ]
  },
  {
   "cell_type": "markdown",
   "id": "027bc135",
   "metadata": {},
   "source": [
    "# Access Wheel Signal <a name=\"#wheel-signal\"></a>\n",
    "\n",
    "This section demonstrates how to access the wheel velocity trace stored in the NWBFile."
   ]
  },
  {
   "cell_type": "code",
   "execution_count": null,
   "id": "1bd4b538",
   "metadata": {},
   "outputs": [],
   "source": [
    "wheel_signal = nwbfile.acquisition[\"WheelSignal\"]\n",
    "wheel_signal"
   ]
  },
  {
   "cell_type": "code",
   "execution_count": null,
   "id": "b6852179",
   "metadata": {},
   "outputs": [],
   "source": [
    "import numpy as np\n",
    "time = np.linspace(0, wheel_signal.data.shape[0]/wheel_signal.rate,wheel_signal.data.shape[0])\n",
    "plt.plot(time,wheel_signal.data*wheel_signal.conversion)\n",
    "plt.ylabel(wheel_signal.unit)\n",
    "plt.xlabel(\"Time (s)\")\n",
    "plt.title(wheel_signal.name)"
   ]
  },
  {
   "cell_type": "markdown",
   "id": "e83cc1bf",
   "metadata": {},
   "source": [
    "# Access Raw Behavior <a name=\"#raw-behavior\"></a>\n",
    "\n",
    "This section demonstrates how to access the raw behavioral video stored in the NWBFile."
   ]
  },
  {
   "cell_type": "code",
   "execution_count": null,
   "id": "e6e22c09",
   "metadata": {},
   "outputs": [],
   "source": [
    "video = nwbfile.acquisition[\"Video: 11222019_grabAM06_visual_stim\"]\n",
    "video"
   ]
  },
  {
   "cell_type": "code",
   "execution_count": null,
   "id": "f0c05e5a",
   "metadata": {},
   "outputs": [],
   "source": [
    "plt.imshow(video.data[1], aspect=\"auto\")\n",
    "plt.title(f\"A frame of {video.name} at {video.timestamps[1]} sec\")\n",
    "plt.show()"
   ]
  },
  {
   "cell_type": "markdown",
   "id": "74d1bb0d",
   "metadata": {},
   "source": [
    "# Access Processed Behavior <a name=\"#processed-behavior\"></a>\n",
    "\n",
    "This section demonstrates how to access the Facemap output stored in the NWBFile.\n"
   ]
  },
  {
   "cell_type": "code",
   "execution_count": null,
   "id": "58b7e241",
   "metadata": {},
   "outputs": [],
   "source": [
    "nwbfile.processing[\"behavior\"][\"EyeTracking\"]"
   ]
  },
  {
   "cell_type": "code",
   "execution_count": null,
   "id": "0f57bf13",
   "metadata": {},
   "outputs": [],
   "source": [
    "nwbfile.processing[\"behavior\"][\"PupilTracking\"]"
   ]
  },
  {
   "cell_type": "code",
   "execution_count": null,
   "id": "83f4fd8e",
   "metadata": {},
   "outputs": [],
   "source": [
    "motion_svd_series = nwbfile.processing[\"behavior\"][\"MotionSVDSeriesROI1\"]\n",
    "motion_svd_series"
   ]
  },
  {
   "cell_type": "code",
   "execution_count": null,
   "id": "9e8ed951",
   "metadata": {},
   "outputs": [],
   "source": [
    "motion_svd_series.data.shape"
   ]
  },
  {
   "cell_type": "code",
   "execution_count": null,
   "id": "90f6f43e",
   "metadata": {},
   "outputs": [],
   "source": [
    "plt.plot(motion_svd_series.data[0])\n",
    "plt.title(motion_svd_series.name)"
   ]
  },
  {
   "cell_type": "code",
   "execution_count": null,
   "id": "ff291bec",
   "metadata": {},
   "outputs": [],
   "source": [
    "motion_svd_masks = nwbfile.processing[\"behavior\"][\"MotionSVDMasksROI1\"]\n",
    "motion_svd_masks"
   ]
  },
  {
   "cell_type": "code",
   "execution_count": null,
   "id": "d35fbac0",
   "metadata": {},
   "outputs": [],
   "source": [
    "motion_svd_masks.mask_coordinates[:]"
   ]
  },
  {
   "cell_type": "code",
   "execution_count": null,
   "id": "79eaedbb",
   "metadata": {},
   "outputs": [],
   "source": [
    "motion_svd_masks.processed_frame_dimension[:]"
   ]
  },
  {
   "cell_type": "code",
   "execution_count": null,
   "id": "bdde8a91",
   "metadata": {},
   "outputs": [],
   "source": [
    "masks = motion_svd_masks.image_mask_index[:10]\n",
    "# plt.imshow(mask, aspect=\"auto\", cmap=\"RdYlBu_r\" )\n",
    "# plt.title(\"First component mask\")\n",
    "# plt.show()"
   ]
  },
  {
   "cell_type": "code",
   "execution_count": null,
   "id": "5654d13e",
   "metadata": {},
   "outputs": [],
   "source": []
  },
  {
   "cell_type": "markdown",
   "id": "b50a377e",
   "metadata": {},
   "source": [
    "# Access Visual Stimulus <a name=\"access-visualstim\"></a>\n",
    "\n",
    "This section demonstrates how to access the visual stimulus data."
   ]
  },
  {
   "cell_type": "code",
   "execution_count": null,
   "id": "ce2b8da7",
   "metadata": {},
   "outputs": [],
   "source": [
    "nwbfile.intervals[\"VisualStimulus\"]"
   ]
  }
 ],
 "metadata": {
  "kernelspec": {
   "display_name": "Python 3 (ipykernel)",
   "language": "python",
   "name": "python3"
  },
  "language_info": {
   "codemirror_mode": {
    "name": "ipython",
    "version": 3
   },
   "file_extension": ".py",
   "mimetype": "text/x-python",
   "name": "python",
   "nbconvert_exporter": "python",
   "pygments_lexer": "ipython3",
   "version": "3.9.18"
  }
 },
 "nbformat": 4,
 "nbformat_minor": 5
}
