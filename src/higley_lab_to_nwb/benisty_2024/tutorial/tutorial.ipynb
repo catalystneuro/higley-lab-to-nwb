{
 "cells": [
  {
   "cell_type": "markdown",
   "id": "6242b563-faf9-411b-b61e-ff6d5d802609",
   "metadata": {},
   "source": [
    "# Tutorial for one-photon imaging dataset.\n",
    "\n",
    "This tutorial shows how to access the *Two Photon dataset* using `pynwb`. \n",
    "\n",
    "This dataset contains the 2-photon calcium imaging holographic stimulation data and visual stimuli events.\n",
    "\n",
    "Contents:\n",
    "\n",
    "- [Reading an NWB file](#read-nwb)\n",
    "- [Access subject and task metadata](#access-subject)\n",
    "- [Access Mesoscopic Imaging](#access-1p-imaging)\n",
    "- [Access Two-photon Imaging](#access-2p-imaging)\n",
    "- [Access TTL Signals](#ttl-signals)\n",
    "- [Access Wheel Signal](#wheel-signal)\n",
    "- [Access Raw Behavior](#raw-behavior)\n",
    "- [Access Processed Behavior](#processed-behavior)\n",
    "- [Access Visual Stimulus](#access-visualstim)\n",
    "\n",
    "<!-- A schematic representation where the source data is saved in NWB:\n",
    "\n",
    "![Alt text](./conversion_outline_diagram.png) -->"
   ]
  },
  {
   "cell_type": "markdown",
   "id": "6bc8942c-2b51-4bd9-9e87-51cdd58f25ef",
   "metadata": {},
   "source": [
    "# Reading an NWB file <a name=\"read-nwb\"></a>\n",
    "\n",
    "This section demonstrates how to read an NWB file using `pynwb`.\n",
    "\n",
    "Based on the [NWB File Basics](https://pynwb.readthedocs.io/en/stable/tutorials/general/plot_file.html#sphx-glr-tutorials-general-plot-file-py) tutorial from [PyNWB](https://pynwb.readthedocs.io/en/stable/#).\n",
    "\n",
    "An [NWBFile](https://pynwb.readthedocs.io/en/stable/pynwb.file.html#pynwb.file.NWBFile) represents a single session of an experiment. Each NWBFile must have a `session description`, `identifier`, and `session start time`.\n",
    "\n",
    "Reading is carried out using the [NWBHDF5IO](https://pynwb.readthedocs.io/en/stable/pynwb.html#pynwb.NWBHDF5IO) class. To read the NWB file use the read mode (\"r\") to retrieve an NWBFile object.\n"
   ]
  },
  {
   "cell_type": "code",
   "execution_count": null,
   "id": "b2968627-3cdd-4c65-825c-4e239cf9a5ea",
   "metadata": {},
   "outputs": [],
   "source": [
    "from pynwb import NWBHDF5IO\n",
    "from pathlib import Path\n",
    "\n",
    "# Choose which epoch to explore\n",
    "session_id = '20201231_00002_dbvdual035'\n",
    "\n",
    "# The file path to a .nwb file\n",
    "root_path = Path(\"/media/amtra/Samsung_T5/CN_data\")\n",
    "output_dir_path = root_path / \"Higley-conversion_nwb/nwb_stub/\"\n",
    "nwbfile_path = output_dir_path / f\"{session_id}.nwb\"\n",
    "io = NWBHDF5IO(path=nwbfile_path, mode=\"r\", load_namespaces=True)\n",
    "nwbfile = io.read()\n",
    "\n",
    "nwbfile"
   ]
  },
  {
   "cell_type": "markdown",
   "id": "8b25d9c7-83c0-4992-8bb5-2548f08bb28a",
   "metadata": {},
   "source": [
    "Importantly, the `session start time` is the reference time for all timestamps in the file. For instance, an event with a timestamp of 0 in the file means the event occurred exactly at the session start time.\n",
    "\n",
    "The `session_start_time` is extracted from the ScanImage metadata (`epoch`) of the first .tiff of the epoch."
   ]
  },
  {
   "cell_type": "code",
   "execution_count": null,
   "id": "52016578-44c1-4a75-b615-ec85d8463c4a",
   "metadata": {},
   "outputs": [],
   "source": [
    "nwbfile.session_start_time"
   ]
  },
  {
   "cell_type": "markdown",
   "id": "8d247090-5cfb-47b1-a1a4-8a7c87921a38",
   "metadata": {},
   "source": [
    "# Access subject metadata <a name=\"access-subject\"></a>\n",
    "\n",
    "This section demonstrates how to access the [Subject](https://pynwb.readthedocs.io/en/stable/pynwb.file.html#pynwb.file.Subject) field in an NWB file.\n",
    "\n",
    "The [Subject](https://pynwb.readthedocs.io/en/stable/pynwb.file.html#pynwb.file.Subject) field can be accessed as `nwbfile.subject`.\n"
   ]
  },
  {
   "cell_type": "code",
   "execution_count": null,
   "id": "483b9a74-c5f0-4f59-b422-1a3a7a9c5002",
   "metadata": {},
   "outputs": [],
   "source": [
    "nwbfile.subject"
   ]
  },
  {
   "cell_type": "markdown",
   "id": "fdc72048-3dc7-4b35-a411-e5507176ef35",
   "metadata": {},
   "source": [
    "# Access Mesoscopic Imaging <a name=\"access-1p-imaging\"></a>\n",
    "\n",
    "This section demonstraces how to access the raw One Photon imaging data.\n",
    "\n",
    "`NWB` organizes data into different groups depending on the type of data. Groups can be thought of as folders within the file. Here are some of the groups within an NWBFile and the types of data they are intended to store:\n",
    "\n",
    "- `acquisition`: raw, acquired data that should never change\n",
    "- `processing`: processed data, typically the results of preprocessing algorithms and could change\n",
    "\n",
    "## Raw OnePhoton Imaging\n",
    "\n",
    "The raw OnePhoton imaging data is stored in `pynwb.ophys.OnePhotonSeries` objects (for each channel and excitation type separately) which is added to `nwbfile.acquisition`. The data can be accessed as `nwbfile.acquisition['OnePhotonSeries_color_Excitation_color_Channel']`.\n",
    "\n",
    "The data in [OnePhotonSeries](https://pynwb.readthedocs.io/en/stable/pynwb.ophys.html#pynwb.ophys.OnePhotonSeries) is stored as a three dimensional array: the first dimension is time (frame), the second and third dimensions represent x and y (width by height). "
   ]
  },
  {
   "cell_type": "code",
   "execution_count": null,
   "id": "7f95b465",
   "metadata": {},
   "outputs": [],
   "source": [
    "names_of_photon_series = nwbfile.acquisition.keys()\n",
    "_ = [print(name) for name in names_of_photon_series if \"OnePhoton\" in name ]"
   ]
  },
  {
   "cell_type": "code",
   "execution_count": null,
   "id": "e9621b78-2c39-49fa-8106-d3e277252468",
   "metadata": {},
   "outputs": [],
   "source": [
    "photon_series_blue_ex = nwbfile.acquisition[f\"OnePhotonSeries\"]\n",
    "print(f\"Rate: {photon_series_blue_ex.rate}\")\n",
    "print(f\"Starting Time: {photon_series_blue_ex.starting_time}\")\n",
    "photon_series_blue_ex.imaging_plane\n"
   ]
  },
  {
   "cell_type": "code",
   "execution_count": null,
   "id": "2b47224e",
   "metadata": {},
   "outputs": [],
   "source": [
    "photon_series_violet_ex = nwbfile.acquisition[f\"OnePhotonSeriesIsosbestic\"]\n",
    "print(f\"Rate: {photon_series_violet_ex.rate}\")\n",
    "print(f\"Starting Time: {photon_series_violet_ex.starting_time}\")\n",
    "photon_series_violet_ex.imaging_plane"
   ]
  },
  {
   "cell_type": "code",
   "execution_count": null,
   "id": "1ef00fe3-cb56-4efe-89bb-946bb9bc42b5",
   "metadata": {},
   "outputs": [],
   "source": [
    "from matplotlib import pyplot as plt\n",
    "\n",
    "fig, ax = plt.subplots(nrows=1, ncols=2, figsize=(8, 3), dpi=300)\n",
    "\n",
    "ax[0].imshow(photon_series_blue_ex.data[10].T, aspect=\"auto\", cmap=\"RdYlBu_r\")\n",
    "ax[0].set_title(f\"{photon_series_blue_ex.imaging_plane.excitation_lambda} Excitation\")\n",
    "\n",
    "ax[1].imshow(photon_series_violet_ex.data[10].T, aspect=\"auto\", cmap=\"RdYlBu_r\")\n",
    "ax[1].set_title(f\"{photon_series_violet_ex.imaging_plane.excitation_lambda} Excitation\")"
   ]
  },
  {
   "cell_type": "markdown",
   "id": "e0d3c73d",
   "metadata": {},
   "source": [
    "# Access Two-photon Imaging <a name=\"access-2p-imaging\"></a>\n",
    "\n",
    "The raw TwoPhoton imaging data is stored in `pynwb.ophys.TwoPhotonSeries` objects (for each channel and excitation type separately) which is added to `nwbfile.acquisition`. The data can be accessed as `nwbfile.acquisition['TwoPhotonSeries']`.\n",
    "\n",
    "The data in [TwoPhotonSeries](https://pynwb.readthedocs.io/en/stable/pynwb.ophys.html#pynwb.ophys.TwoPhotonSeries) is stored as a three dimensional array: the first dimension is time (frame), the second and third dimensions represent x and y (width by height). "
   ]
  },
  {
   "cell_type": "code",
   "execution_count": null,
   "id": "a7a50323",
   "metadata": {},
   "outputs": [],
   "source": [
    "photon_series_green_ex = nwbfile.acquisition[\"TwoPhotonSeries\"]\n",
    "print(f\"Rate: {photon_series_green_ex.rate}\")\n",
    "print(f\"Starting Time: {photon_series_green_ex.starting_time}\")\n",
    "photon_series_green_ex.imaging_plane"
   ]
  },
  {
   "cell_type": "code",
   "execution_count": null,
   "id": "ec41fad0",
   "metadata": {},
   "outputs": [],
   "source": [
    "plt.imshow(photon_series_green_ex.data[10], aspect=\"auto\", cmap=\"Greys_r\")\n",
    "plt.title(f\"{photon_series_green_ex.imaging_plane.excitation_lambda} Excitation\")"
   ]
  },
  {
   "cell_type": "markdown",
   "id": "5b9ff153",
   "metadata": {},
   "source": [
    "## Accessing the segmentation data\n",
    "\n",
    "The segmentation output for the Two Photon Imaging data is stored in `nwbfile.processing[\"ophys\"]`. \n",
    "\n",
    "In NWB, the [PlaneSegmentation](https://pynwb.readthedocs.io/en/stable/pynwb.ophys.html#pynwb.ophys.PlaneSegmentation) class stores the detected regions of interest in the [TwoPhotonSeries](https://pynwb.readthedocs.io/en/stable/pynwb.ophys.html#pynwb.ophys.TwoPhotonSeries) data. The [ImageSegmentation](https://pynwb.readthedocs.io/en/stable/pynwb.ophys.html#pynwb.ophys.ImageSegmentation) can contain multiple `PlaneSegmentation` tables, so that we can store results of different segmentation algorithms or different segmentation classes.\n",
    "\n",
    "We can access the plane segmentation for the [TwoPhotonSeries](https://pynwb.readthedocs.io/en/stable/pynwb.ophys.html#pynwb.ophys.TwoPhotonSeries) data as \n",
    "`nwbfile.processing[\"ophys\"][\"ImageSegmentation\"][\"PlaneSegmentation\"]`.\n"
   ]
  },
  {
   "cell_type": "code",
   "execution_count": null,
   "id": "37fefb73",
   "metadata": {},
   "outputs": [],
   "source": [
    "plane_segmentation = nwbfile.processing[\"ophys\"][\"ImageSegmentation\"][\"PlaneSegmentation\"][:]\n",
    "plane_segmentation[:10]"
   ]
  },
  {
   "cell_type": "code",
   "execution_count": null,
   "id": "9d310b83",
   "metadata": {},
   "outputs": [],
   "source": [
    "fig, ax = plt.subplots(nrows=1, ncols=2, figsize=(8, 3), dpi=300)\n",
    "\n",
    "ax[0].imshow(photon_series_green_ex.data[50], aspect=\"auto\", cmap=\"RdYlBu_r\")\n",
    "ax[0].set_title(\"Raw image\")\n",
    "\n",
    "ax[1].imshow(plane_segmentation.image_mask[1], aspect=\"auto\", cmap=\"RdYlBu_r\")\n",
    "ax[1].set_title(\"Image mask (single ROI)\")"
   ]
  },
  {
   "cell_type": "markdown",
   "id": "6b6b4c27",
   "metadata": {},
   "source": [
    "The summary images of the segmentation are stored in [Images](https://pynwb.readthedocs.io/en/stable/pynwb.base.html#pynwb.base.Images) container in NWB. "
   ]
  },
  {
   "cell_type": "code",
   "execution_count": null,
   "id": "03be60dd",
   "metadata": {},
   "outputs": [],
   "source": [
    "images = nwbfile.processing[\"ophys\"][\"SegmentationImages\"]\n",
    "images"
   ]
  },
  {
   "cell_type": "code",
   "execution_count": null,
   "id": "e5dd3cad",
   "metadata": {},
   "outputs": [],
   "source": [
    "plt.imshow(photon_series_green_ex.data[50].T, cmap=\"Greys_r\")\n",
    "plt.title(\"TwoPhotonSeries\")\n",
    "plt.show()\n",
    "\n",
    "plt.imshow(images.images[\"correlation\"].data[:].T, cmap=\"RdYlBu_r\")\n",
    "plt.title(\"Image Correlation\")\n",
    "plt.show()\n",
    "\n",
    "plt.imshow(images.images[\"mean\"].data[:].T, cmap=\"RdYlBu_r\")\n",
    "plt.title(\"Image mean\")\n",
    "plt.show()"
   ]
  },
  {
   "cell_type": "markdown",
   "id": "3be4ca1b",
   "metadata": {},
   "source": [
    "The fluroscence traces are stored in a [Fluorescence](https://pynwb.readthedocs.io/en/stable/pynwb.ophys.html#pynwb.ophys.Fluorescence) container, the raw traces can be accessed as `nwbfile.processing[\"ophys\"][\"Fluorescence\"][\"RoiResponseSeries\"]`."
   ]
  },
  {
   "cell_type": "code",
   "execution_count": null,
   "id": "99c48695",
   "metadata": {},
   "outputs": [],
   "source": [
    "nwbfile.processing[\"ophys\"][\"Fluorescence\"]"
   ]
  },
  {
   "cell_type": "markdown",
   "id": "b633ea69",
   "metadata": {},
   "source": [
    "## Visualize raw traces"
   ]
  },
  {
   "cell_type": "code",
   "execution_count": null,
   "id": "75539ed4",
   "metadata": {},
   "outputs": [],
   "source": [
    "import pandas as pd\n",
    "import numpy as np\n",
    "import warnings\n",
    "warnings.simplefilter(action='ignore', category=pd.errors.PerformanceWarning)\n",
    "\n",
    "data = nwbfile.processing[\"ophys\"][\"Fluorescence\"][f\"RoiResponseSeries\"].data[:, :10]\n",
    "rate = nwbfile.processing[\"ophys\"][\"Fluorescence\"][f\"RoiResponseSeries\"].rate\n",
    "df = pd.DataFrame(data)\n",
    "df[\"time\"] = np.linspace(0, data.shape[0]*rate,data.shape[0])\n",
    "df.set_index(\"time\", inplace=True)\n",
    "df.columns.name = 'ROIs'\n",
    "\n",
    "import plotly.express as px\n",
    "\n",
    "fig = px.line(df, facet_row=\"ROIs\", facet_row_spacing=0.01)\n",
    "\n",
    "# hide and lock down axes\n",
    "fig.update_xaxes(visible=True, fixedrange=False)\n",
    "fig.update_yaxes(visible=False, fixedrange=False)\n",
    "\n",
    "# remove facet/subplot labels\n",
    "fig.update_layout(annotations=[], overwrite=True)\n",
    "\n",
    "# strip down the rest of the plot\n",
    "fig.update_layout(\n",
    "    showlegend=True,\n",
    "    plot_bgcolor=\"white\",\n",
    "    margin=dict(t=10, l=10, b=10, r=10)\n",
    ")\n",
    "\n",
    "fig.show(config=dict(displayModeBar=True))"
   ]
  },
  {
   "cell_type": "code",
   "execution_count": null,
   "id": "7376e1de",
   "metadata": {},
   "outputs": [],
   "source": [
    "roi_index = 10\n",
    "if plane_segmentation[\"Accepted\"].values[roi_index]:\n",
    "    description = \"(accepted)\"\n",
    "else:\n",
    "    description = \"(rejected)\"\n",
    "\n",
    "import matplotlib.pyplot as plt\n",
    "\n",
    "fig = plt.figure(figsize=(20,5))\n",
    "data_roi_trace = nwbfile.processing[\"ophys\"][\"Fluorescence\"][\"RoiResponseSeries\"].data[:, roi_index]\n",
    "data_neuropil_trace = nwbfile.processing[\"ophys\"][\"Fluorescence\"][\"Neuropil\"].data[:, roi_index]\n",
    "rate = nwbfile.processing[\"ophys\"][\"Fluorescence\"][\"RoiResponseSeries\"].rate\n",
    "time = np.linspace(0, data.shape[0]*rate,data.shape[0])\n",
    "plt.plot(time, data_roi_trace, label=\"activity\")\n",
    "plt.plot(time, data_neuropil_trace, label=\"neuropil\")\n",
    "plt.xlabel(\"Time (s)\")\n",
    "plt.ylabel(\"Df/f\")\n",
    "plt.title(f\"ROI {roi_index} {description}\")\n",
    "plt.legend()\n"
   ]
  },
  {
   "cell_type": "markdown",
   "id": "ce538054-666b-4ad1-9d34-f9730973b3ff",
   "metadata": {},
   "source": [
    "# Access TTL Signals <a name=\"#ttl-signals\"></a>\n",
    "\n",
    "This section demonstrates how to access the TTL signals stored in the NWBFile.\n",
    "TTLTypesTable contains the description and the id for each TTL signal\n",
    "TTLsTable contains the respective timestamps (rising times)"
   ]
  },
  {
   "cell_type": "code",
   "execution_count": null,
   "id": "6c28c170",
   "metadata": {},
   "outputs": [],
   "source": [
    "import pandas as pd\n",
    "\n",
    "events = pd.merge(\n",
    "    left=nwbfile.acquisition[\"TTLsTable\"][:],\n",
    "    right=nwbfile.acquisition[\"TTLTypesTable\"][:],\n",
    "    left_on=\"ttl_type\",\n",
    "    right_on=\"id\",\n",
    ")\n",
    "events.sort_values(by=\"ttl_type\")\n",
    "events.head()"
   ]
  },
  {
   "cell_type": "markdown",
   "id": "027bc135",
   "metadata": {},
   "source": [
    "# Access Wheel Signal <a name=\"#wheel-signal\"></a>\n",
    "\n",
    "This section demonstrates how to access the wheel velocity trace stored in the NWBFile."
   ]
  },
  {
   "cell_type": "code",
   "execution_count": null,
   "id": "1bd4b538",
   "metadata": {},
   "outputs": [],
   "source": [
    "wheel_signal = nwbfile.acquisition[\"WheelSignal\"]\n",
    "wheel_signal"
   ]
  },
  {
   "cell_type": "code",
   "execution_count": null,
   "id": "b6852179",
   "metadata": {},
   "outputs": [],
   "source": [
    "import numpy as np\n",
    "timestamps = wheel_signal.get_timestamps()\n",
    "plt.plot(timestamps,wheel_signal.data*wheel_signal.conversion)\n",
    "plt.ylabel(wheel_signal.unit)\n",
    "plt.ylim(0,5)\n",
    "plt.xlabel(\"Time (s)\")\n",
    "plt.title(wheel_signal.name)"
   ]
  },
  {
   "cell_type": "markdown",
   "id": "e83cc1bf",
   "metadata": {},
   "source": [
    "# Access Raw Behavior <a name=\"#raw-behavior\"></a>\n",
    "\n",
    "This section demonstrates how to access the raw behavioral video stored in the NWBFile."
   ]
  },
  {
   "cell_type": "code",
   "execution_count": null,
   "id": "e6e22c09",
   "metadata": {},
   "outputs": [],
   "source": [
    "video = nwbfile.acquisition[f\"Video: {session_id}\"]\n",
    "video"
   ]
  },
  {
   "cell_type": "markdown",
   "id": "74d1bb0d",
   "metadata": {},
   "source": [
    "# Access Processed Behavior <a name=\"#processed-behavior\"></a>\n",
    "\n",
    "This section demonstrates how to access the Facemap output stored in the NWBFile.\n"
   ]
  },
  {
   "cell_type": "code",
   "execution_count": null,
   "id": "58b7e241",
   "metadata": {},
   "outputs": [],
   "source": [
    "nwbfile.processing[\"behavior\"][\"EyeTracking\"]"
   ]
  },
  {
   "cell_type": "code",
   "execution_count": null,
   "id": "0f57bf13",
   "metadata": {},
   "outputs": [],
   "source": [
    "nwbfile.processing[\"behavior\"][\"PupilTracking\"]"
   ]
  },
  {
   "cell_type": "code",
   "execution_count": null,
   "id": "83f4fd8e",
   "metadata": {},
   "outputs": [],
   "source": [
    "motion_svd_series = nwbfile.processing[\"behavior\"][\"MotionSVDSeriesROI1\"]\n",
    "motion_svd_series"
   ]
  },
  {
   "cell_type": "code",
   "execution_count": null,
   "id": "e479cb46",
   "metadata": {},
   "outputs": [],
   "source": [
    "import pandas as pd\n",
    "from matplotlib import pyplot as plt\n",
    "\n",
    "# Prepare data for plotting\n",
    "pupil_area = nwbfile.processing[\"behavior\"][\"PupilTracking\"][\"pupil_area\"]\n",
    "timestamps = pupil_area.get_timestamps()\n",
    "\n",
    "fig, ax = plt.subplots(nrows=2, ncols=1, figsize=(8, 3), dpi=300, sharex=True)\n",
    "\n",
    "# Plot data\n",
    "ax[0].plot(timestamps[:500], pupil_area.data[:500,0], color=\"black\", linewidth=0.8, label='Pupil Area')\n",
    "\n",
    "# Plot control data with offset\n",
    "ax[1].plot(timestamps[:500], motion_svd_series.data[:500,0], color=\"grey\", linewidth=0.5, label='Face Motion')\n",
    "\n",
    "ax[0].spines['top'].set_visible(False)\n",
    "ax[0].spines['right'].set_visible(False)\n",
    "ax[0].spines['bottom'].set_visible(False)\n",
    "ax[1].spines['top'].set_visible(False)\n",
    "ax[1].spines['right'].set_visible(False)\n",
    "\n",
    "ax[0].legend([\"Pupil Area\"], frameon=False, bbox_to_anchor=(.95, 1), loc='upper left', prop={'size': 8})\n",
    "ax[1].legend([\"Face Motion\"], frameon=False, bbox_to_anchor=(.96, 1), loc='upper left', prop={'size': 8})\n",
    "ax[1].tick_params(axis='y', labelsize=8)\n",
    "ax[0].tick_params(axis='y', labelsize=8)\n",
    "\n",
    "\n",
    "plt.xlabel('Time (s)', fontsize=8)\n",
    "plt.tick_params(axis='x', labelsize=8)\n",
    "plt.show()"
   ]
  },
  {
   "cell_type": "code",
   "execution_count": null,
   "id": "ff291bec",
   "metadata": {},
   "outputs": [],
   "source": [
    "motion_svd_masks = nwbfile.processing[\"behavior\"][\"MotionSVDMasksROI1\"]\n",
    "motion_svd_masks"
   ]
  },
  {
   "cell_type": "code",
   "execution_count": null,
   "id": "d35fbac0",
   "metadata": {},
   "outputs": [],
   "source": [
    "motion_svd_masks.mask_coordinates[:]"
   ]
  },
  {
   "cell_type": "code",
   "execution_count": null,
   "id": "79eaedbb",
   "metadata": {},
   "outputs": [],
   "source": [
    "motion_svd_masks.processed_frame_dimension[:]"
   ]
  },
  {
   "cell_type": "code",
   "execution_count": null,
   "id": "bdde8a91",
   "metadata": {},
   "outputs": [],
   "source": [
    "mask = motion_svd_masks.image_mask_index[0]\n",
    "plt.imshow(mask, aspect=\"auto\", cmap=\"RdYlBu_r\" )\n",
    "plt.title(\"First component mask\")\n",
    "plt.show()"
   ]
  },
  {
   "cell_type": "markdown",
   "id": "b50a377e",
   "metadata": {},
   "source": [
    "# Access Visual Stimulus <a name=\"access-visualstim\"></a>\n",
    "\n",
    "This section demonstrates how to access the visual stimulus data."
   ]
  },
  {
   "cell_type": "code",
   "execution_count": null,
   "id": "ce2b8da7",
   "metadata": {},
   "outputs": [],
   "source": [
    "visual_stimulus_table = nwbfile.intervals[\"VisualStimulus\"].to_dataframe()\n",
    "visual_stimulus_table.head()"
   ]
  }
 ],
 "metadata": {
  "kernelspec": {
   "display_name": "Python 3 (ipykernel)",
   "language": "python",
   "name": "python3"
  },
  "language_info": {
   "codemirror_mode": {
    "name": "ipython",
    "version": 3
   },
   "file_extension": ".py",
   "mimetype": "text/x-python",
   "name": "python",
   "nbconvert_exporter": "python",
   "pygments_lexer": "ipython3",
   "version": "3.9.18"
  }
 },
 "nbformat": 4,
 "nbformat_minor": 5
}
