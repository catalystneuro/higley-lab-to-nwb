{
 "cells": [
  {
   "cell_type": "markdown",
   "id": "6242b563-faf9-411b-b61e-ff6d5d802609",
   "metadata": {},
   "source": [
    "# Tutorial for one-photon imaging dataset.\n",
    "\n",
    "This tutorial shows how to access the *Two Photon dataset* using `pynwb`. \n",
    "\n",
    "This dataset contains the 2-photon calcium imaging holographic stimulation data and visual stimuli events.\n",
    "\n",
    "Contents:\n",
    "\n",
    "- [Reading an NWB file](#read-nwb)\n",
    "- [Access subject and task metadata](#access-subject)\n",
    "- [Access Imaging](#access-imaging)\n",
    "- [Access TTL Signals](#ttl-signals)\n",
    "- [Access Wheel Signal](#wheel-signal)\n",
    "- [Access Raw Behavior](#raw-behavior)\n",
    "- [Access Processed Behavior](#processed-behavior)\n",
    "- [Access Visual Stimulus](#access-visualstim)\n",
    "\n",
    "A schematic representation where the source data is saved in NWB:\n",
    "\n",
    "![Alt text](./conversion_outline_diagram.png)"
   ]
  },
  {
   "cell_type": "markdown",
   "id": "6bc8942c-2b51-4bd9-9e87-51cdd58f25ef",
   "metadata": {},
   "source": [
    "# Reading an NWB file <a name=\"read-nwb\"></a>\n",
    "\n",
    "This section demonstrates how to read an NWB file using `pynwb`.\n",
    "\n",
    "Based on the [NWB File Basics](https://pynwb.readthedocs.io/en/stable/tutorials/general/plot_file.html#sphx-glr-tutorials-general-plot-file-py) tutorial from [PyNWB](https://pynwb.readthedocs.io/en/stable/#).\n",
    "\n",
    "An [NWBFile](https://pynwb.readthedocs.io/en/stable/pynwb.file.html#pynwb.file.NWBFile) represents a single session of an experiment. Each NWBFile must have a `session description`, `identifier`, and `session start time`.\n",
    "\n",
    "Reading is carried out using the [NWBHDF5IO](https://pynwb.readthedocs.io/en/stable/pynwb.html#pynwb.NWBHDF5IO) class. To read the NWB file use the read mode (\"r\") to retrieve an NWBFile object.\n"
   ]
  },
  {
   "cell_type": "code",
   "execution_count": null,
   "id": "b2968627-3cdd-4c65-825c-4e239cf9a5ea",
   "metadata": {},
   "outputs": [],
   "source": [
    "from pynwb import NWBHDF5IO\n",
    "from pathlib import Path\n",
    "\n",
    "# Choose which epoch to explore\n",
    "session_id = '04072021_am2psi_05_spont'\n",
    "\n",
    "# The file path to a .nwb file\n",
    "root_path = Path(\"/media/amtra/Samsung_T5/CN_data\")\n",
    "output_dir_path = root_path / \"Higley-conversion_nwb/nwb_stub/\"\n",
    "nwbfile_path = output_dir_path / f\"{session_id}.nwb\"\n",
    "io = NWBHDF5IO(path=nwbfile_path, mode=\"r\", load_namespaces=True)\n",
    "nwbfile = io.read()\n",
    "\n",
    "nwbfile"
   ]
  },
  {
   "cell_type": "markdown",
   "id": "8b25d9c7-83c0-4992-8bb5-2548f08bb28a",
   "metadata": {},
   "source": [
    "Importantly, the `session start time` is the reference time for all timestamps in the file. For instance, an event with a timestamp of 0 in the file means the event occurred exactly at the session start time.\n",
    "\n",
    "The `session_start_time` is extracted from the ScanImage metadata (`epoch`) of the first .tiff of the epoch."
   ]
  },
  {
   "cell_type": "code",
   "execution_count": null,
   "id": "52016578-44c1-4a75-b615-ec85d8463c4a",
   "metadata": {},
   "outputs": [],
   "source": [
    "nwbfile.session_start_time"
   ]
  },
  {
   "cell_type": "markdown",
   "id": "8d247090-5cfb-47b1-a1a4-8a7c87921a38",
   "metadata": {},
   "source": [
    "# Access subject metadata <a name=\"access-subject\"></a>\n",
    "\n",
    "This section demonstrates how to access the [Subject](https://pynwb.readthedocs.io/en/stable/pynwb.file.html#pynwb.file.Subject) field in an NWB file.\n",
    "\n",
    "The [Subject](https://pynwb.readthedocs.io/en/stable/pynwb.file.html#pynwb.file.Subject) field can be accessed as `nwbfile.subject`.\n"
   ]
  },
  {
   "cell_type": "code",
   "execution_count": null,
   "id": "483b9a74-c5f0-4f59-b422-1a3a7a9c5002",
   "metadata": {},
   "outputs": [],
   "source": [
    "nwbfile.subject"
   ]
  },
  {
   "cell_type": "markdown",
   "id": "fdc72048-3dc7-4b35-a411-e5507176ef35",
   "metadata": {},
   "source": [
    "# Access OnePhoton Imaging <a name=\"access-imaging\"></a>\n",
    "\n",
    "This section demonstraces how to access the raw Two Photon imaging data.\n",
    "\n",
    "`NWB` organizes data into different groups depending on the type of data. Groups can be thought of as folders within the file. Here are some of the groups within an NWBFile and the types of data they are intended to store:\n",
    "\n",
    "- `acquisition`: raw, acquired data that should never change\n",
    "- `processing`: processed data, typically the results of preprocessing algorithms and could change\n",
    "\n",
    "## Raw OnePhoton Imaging\n",
    "\n",
    "The raw TwoPhoton imaging data is stored in `pynwb.ophys.TwoPhotonSeries` objects (for each channel and excitation type separately) which is added to `nwbfile.acquisition`. The data can be accessed as `nwbfile.acquisition['TwoPhotonSeries_color_Channel']`.\n",
    "\n",
    "The data in [TwoPhotonSeries](https://pynwb.readthedocs.io/en/stable/pynwb.ophys.html#pynwb.ophys.TwoPhotonSeries) is stored as a three dimensional array: the first dimension is time (frame), the second and third dimensions represent x and y (width by height). "
   ]
  },
  {
   "cell_type": "code",
   "execution_count": null,
   "id": "7f95b465",
   "metadata": {},
   "outputs": [],
   "source": [
    "names_of_photon_series = nwbfile.acquisition.keys()\n",
    "_ = [print(name) for name in names_of_photon_series if \"TwoPhotonSeries\" in name ]"
   ]
  },
  {
   "cell_type": "code",
   "execution_count": null,
   "id": "e9621b78-2c39-49fa-8106-d3e277252468",
   "metadata": {},
   "outputs": [],
   "source": [
    "photon_series = nwbfile.acquisition[\"TwoPhotonSeriesGreenChannel\"]"
   ]
  },
  {
   "cell_type": "code",
   "execution_count": null,
   "id": "aea45586",
   "metadata": {},
   "outputs": [],
   "source": [
    "photon_series.imaging_plane.indicator"
   ]
  },
  {
   "cell_type": "code",
   "execution_count": null,
   "id": "1ef00fe3-cb56-4efe-89bb-946bb9bc42b5",
   "metadata": {},
   "outputs": [],
   "source": [
    "# Visualize the imaging data.\n",
    "\n",
    "from matplotlib import pyplot as plt\n",
    "\n",
    "plt.imshow(photon_series.data[10], aspect=\"auto\")\n",
    "plt.title(f\"One frame from TwoPhotonSeriesGreenChannel\")\n",
    "plt.show()\n"
   ]
  },
  {
   "cell_type": "code",
   "execution_count": null,
   "id": "19879672-07e2-443c-ac36-3952200eb33f",
   "metadata": {},
   "outputs": [],
   "source": [
    "photon_series.rate"
   ]
  },
  {
   "cell_type": "code",
   "execution_count": null,
   "id": "0d4a7ee2-4064-4025-9bf4-03e4de6b9b28",
   "metadata": {},
   "outputs": [],
   "source": [
    "photon_series.starting_time"
   ]
  }
 ],
 "metadata": {
  "kernelspec": {
   "display_name": "Python 3 (ipykernel)",
   "language": "python",
   "name": "python3"
  },
  "language_info": {
   "codemirror_mode": {
    "name": "ipython",
    "version": 3
   },
   "file_extension": ".py",
   "mimetype": "text/x-python",
   "name": "python",
   "nbconvert_exporter": "python",
   "pygments_lexer": "ipython3",
   "version": "3.9.18"
  }
 },
 "nbformat": 4,
 "nbformat_minor": 5
}
